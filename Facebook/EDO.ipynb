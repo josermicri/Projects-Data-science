{
 "cells": [
  {
   "cell_type": "markdown",
   "metadata": {},
   "source": [
    "**INTRODUCTION**\n",
    "This dataset contains information about posts made on Famous Cosmetic Brand's Facebook page from 1st of January to 31th of December of 2014. Each row represents a single post and includes the following attributes:\n",
    "\n",
    "Page total likes: The total number of likes for the page at the time of the post. Example: 139441\n",
    "Type: The type of post (e.g., photo, status, video, link). Example: Photo\n",
    "Category: A categorical variable representing the content category of the post (the specific meaning of the categories is not defined in the provided data). Example: 2\n",
    "Post Month: The month the post was published (likely represented numerically, e.g., 12 for December). Example: 12\n",
    "Post Weekday: The day of the week the post was published (likely represented numerically, e.g., 1 for Monday). Example: 4\n",
    "Post Hour: The hour of the day the post was published (likely in 24-hour format). Example: 3\n",
    "Paid: A binary variable indicating whether the post was a paid advertisement (1 for yes, 0 for no). Example: 0\n",
    "Lifetime Post Total Reach: The total number of unique people who saw the post during its lifetime. Example: 2752\n",
    "Lifetime Post Total Impressions: The total number of times the post was displayed, regardless of whether it was clicked or seen. Example: 5091\n",
    "Lifetime Engaged Users: The number of unique people who engaged with the post (e.g., liked, commented, shared, clicked). Example: 178\n",
    "Lifetime Post Consumers: The number of unique people who clicked anywhere in the post. Example: 109\n",
    "Lifetime Post Consumptions: The total number of clicks anywhere in the post. Example: 159\n",
    "Lifetime Post Impressions by people who have liked your Page: The number of times the post was shown to people who liked the page. Example: 3078\n",
    "Lifetime Post reach by people who like your Page: The number of people who like the page that saw the post. Example: 1640\n",
    "Lifetime People who have liked your Page and engaged with your post: The number of people who liked the page that engaged with the post. Example: 119\n",
    "comment: Number of comments on the post. Example: 4\n",
    "like: Number of likes on the post. Example: 79\n",
    "share: Number of shares of the post. Example: 17\n",
    "Total Interactions: Total number of interactions with the post (likely sum of comments, likes, and shares). Example: 100"
   ]
  },
  {
   "cell_type": "markdown",
   "metadata": {},
   "source": []
  },
  {
   "cell_type": "markdown",
   "metadata": {},
   "source": [
    "**INTRODUCTION**\n",
    "This dataset contains information about posts made on Famous Cosmetic Brand's Facebook page from 1st of January to 31th of December of 2014. Each row represents a single post and includes the following attributes:\n",
    "\n",
    "Page total likes: The total number of likes for the page at the time of the post. Example: 139441\n",
    "Type: The type of post (e.g., photo, status, video, link). Example: Photo\n",
    "Category: A categorical variable representing the content category of the post (the specific meaning of the categories is not defined in the provided data). Example: 2\n",
    "Post Month: The month the post was published (likely represented numerically, e.g., 12 for December). Example: 12\n",
    "Post Weekday: The day of the week the post was published (likely represented numerically, e.g., 1 for Monday). Example: 4\n",
    "Post Hour: The hour of the day the post was published (likely in 24-hour format). Example: 3\n",
    "Paid: A binary variable indicating whether the post was a paid advertisement (1 for yes, 0 for no). Example: 0\n",
    "Lifetime Post Total Reach: The total number of unique people who saw the post during its lifetime. Example: 2752\n",
    "Lifetime Post Total Impressions: The total number of times the post was displayed, regardless of whether it was clicked or seen. Example: 5091\n",
    "Lifetime Engaged Users: The number of unique people who engaged with the post (e.g., liked, commented, shared, clicked). Example: 178\n",
    "Lifetime Post Consumers: The number of unique people who clicked anywhere in the post. Example: 109\n",
    "Lifetime Post Consumptions: The total number of clicks anywhere in the post. Example: 159\n",
    "Lifetime Post Impressions by people who have liked your Page: The number of times the post was shown to people who liked the page. Example: 3078\n",
    "Lifetime Post reach by people who like your Page: The number of people who like the page that saw the post. Example: 1640\n",
    "Lifetime People who have liked your Page and engaged with your post: The number of people who liked the page that engaged with the post. Example: 119\n",
    "comment: Number of comments on the post. Example: 4\n",
    "like: Number of likes on the post. Example: 79\n",
    "share: Number of shares of the post. Example: 17\n",
    "Total Interactions: Total number of interactions with the post (likely sum of comments, likes, and shares). Example: 100"
   ]
  },
  {
   "cell_type": "markdown",
   "metadata": {},
   "source": [
    "oBJETIVO \n",
    "-  DETERMINAR LAS MEJORES HORAS Y FECHAS PARA LA PUBLICACION \n",
    "-  Predecir el engache del video y su efectividad \n"
   ]
  },
  {
   "cell_type": "code",
   "execution_count": 1,
   "metadata": {},
   "outputs": [],
   "source": [
    "#import libreries\n",
    "import pandas as pd\n",
    "import numpy as np\n",
    "import seaborn as sns\n",
    "import matplotlib.pyplot as plt"
   ]
  },
  {
   "cell_type": "markdown",
   "metadata": {},
   "source": [
    "-IMPORTS"
   ]
  },
  {
   "cell_type": "code",
   "execution_count": 2,
   "metadata": {},
   "outputs": [],
   "source": [
    "facebook = pd.read_csv('Facebook Metrics of Cosmetic Brand.csv',sep=',')"
   ]
  },
  {
   "cell_type": "code",
   "execution_count": 3,
   "metadata": {},
   "outputs": [
    {
     "data": {
      "text/plain": [
       "10000"
      ]
     },
     "execution_count": 3,
     "metadata": {},
     "output_type": "execute_result"
    }
   ],
   "source": [
    "facebook.size"
   ]
  },
  {
   "cell_type": "code",
   "execution_count": 4,
   "metadata": {},
   "outputs": [
    {
     "data": {
      "text/plain": [
       "(500, 20)"
      ]
     },
     "execution_count": 4,
     "metadata": {},
     "output_type": "execute_result"
    }
   ],
   "source": [
    "facebook.shape"
   ]
  },
  {
   "cell_type": "code",
   "execution_count": 5,
   "metadata": {},
   "outputs": [
    {
     "data": {
      "text/html": [
       "<div>\n",
       "<style scoped>\n",
       "    .dataframe tbody tr th:only-of-type {\n",
       "        vertical-align: middle;\n",
       "    }\n",
       "\n",
       "    .dataframe tbody tr th {\n",
       "        vertical-align: top;\n",
       "    }\n",
       "\n",
       "    .dataframe thead th {\n",
       "        text-align: right;\n",
       "    }\n",
       "</style>\n",
       "<table border=\"1\" class=\"dataframe\">\n",
       "  <thead>\n",
       "    <tr style=\"text-align: right;\">\n",
       "      <th></th>\n",
       "      <th>Unnamed: 0</th>\n",
       "      <th>Page total likes</th>\n",
       "      <th>Category</th>\n",
       "      <th>Post Month</th>\n",
       "      <th>Post Weekday</th>\n",
       "      <th>Post Hour</th>\n",
       "      <th>Paid</th>\n",
       "      <th>Lifetime Post Total Reach</th>\n",
       "      <th>Lifetime Post Total Impressions</th>\n",
       "      <th>Lifetime Engaged Users</th>\n",
       "      <th>Lifetime Post Consumers</th>\n",
       "      <th>Lifetime Post Consumptions</th>\n",
       "      <th>Lifetime Post Impressions by people who have liked your Page</th>\n",
       "      <th>Lifetime Post reach by people who like your Page</th>\n",
       "      <th>Lifetime People who have liked your Page and engaged with your post</th>\n",
       "      <th>comment</th>\n",
       "      <th>like</th>\n",
       "      <th>share</th>\n",
       "      <th>Total Interactions</th>\n",
       "    </tr>\n",
       "  </thead>\n",
       "  <tbody>\n",
       "    <tr>\n",
       "      <th>count</th>\n",
       "      <td>500.000000</td>\n",
       "      <td>500.000000</td>\n",
       "      <td>500.000000</td>\n",
       "      <td>500.000000</td>\n",
       "      <td>500.000000</td>\n",
       "      <td>500.000000</td>\n",
       "      <td>499.000000</td>\n",
       "      <td>500.00000</td>\n",
       "      <td>5.000000e+02</td>\n",
       "      <td>500.000000</td>\n",
       "      <td>500.000000</td>\n",
       "      <td>500.000000</td>\n",
       "      <td>5.000000e+02</td>\n",
       "      <td>500.000000</td>\n",
       "      <td>500.000000</td>\n",
       "      <td>500.00000</td>\n",
       "      <td>499.000000</td>\n",
       "      <td>496.000000</td>\n",
       "      <td>500.000000</td>\n",
       "    </tr>\n",
       "    <tr>\n",
       "      <th>mean</th>\n",
       "      <td>249.500000</td>\n",
       "      <td>123194.176000</td>\n",
       "      <td>1.880000</td>\n",
       "      <td>7.038000</td>\n",
       "      <td>4.150000</td>\n",
       "      <td>7.840000</td>\n",
       "      <td>0.278557</td>\n",
       "      <td>13903.36000</td>\n",
       "      <td>2.958595e+04</td>\n",
       "      <td>920.344000</td>\n",
       "      <td>798.772000</td>\n",
       "      <td>1415.130000</td>\n",
       "      <td>1.676638e+04</td>\n",
       "      <td>6585.488000</td>\n",
       "      <td>609.986000</td>\n",
       "      <td>7.48200</td>\n",
       "      <td>177.945892</td>\n",
       "      <td>27.266129</td>\n",
       "      <td>212.120000</td>\n",
       "    </tr>\n",
       "    <tr>\n",
       "      <th>std</th>\n",
       "      <td>144.481833</td>\n",
       "      <td>16272.813214</td>\n",
       "      <td>0.852675</td>\n",
       "      <td>3.307936</td>\n",
       "      <td>2.030701</td>\n",
       "      <td>4.368589</td>\n",
       "      <td>0.448739</td>\n",
       "      <td>22740.78789</td>\n",
       "      <td>7.680325e+04</td>\n",
       "      <td>985.016636</td>\n",
       "      <td>882.505013</td>\n",
       "      <td>2000.594118</td>\n",
       "      <td>5.979102e+04</td>\n",
       "      <td>7682.009405</td>\n",
       "      <td>612.725618</td>\n",
       "      <td>21.18091</td>\n",
       "      <td>323.398742</td>\n",
       "      <td>42.613292</td>\n",
       "      <td>380.233118</td>\n",
       "    </tr>\n",
       "    <tr>\n",
       "      <th>min</th>\n",
       "      <td>0.000000</td>\n",
       "      <td>81370.000000</td>\n",
       "      <td>1.000000</td>\n",
       "      <td>1.000000</td>\n",
       "      <td>1.000000</td>\n",
       "      <td>1.000000</td>\n",
       "      <td>0.000000</td>\n",
       "      <td>238.00000</td>\n",
       "      <td>5.700000e+02</td>\n",
       "      <td>9.000000</td>\n",
       "      <td>9.000000</td>\n",
       "      <td>9.000000</td>\n",
       "      <td>5.670000e+02</td>\n",
       "      <td>236.000000</td>\n",
       "      <td>9.000000</td>\n",
       "      <td>0.00000</td>\n",
       "      <td>0.000000</td>\n",
       "      <td>0.000000</td>\n",
       "      <td>0.000000</td>\n",
       "    </tr>\n",
       "    <tr>\n",
       "      <th>25%</th>\n",
       "      <td>124.750000</td>\n",
       "      <td>112676.000000</td>\n",
       "      <td>1.000000</td>\n",
       "      <td>4.000000</td>\n",
       "      <td>2.000000</td>\n",
       "      <td>3.000000</td>\n",
       "      <td>0.000000</td>\n",
       "      <td>3315.00000</td>\n",
       "      <td>5.694750e+03</td>\n",
       "      <td>393.750000</td>\n",
       "      <td>332.500000</td>\n",
       "      <td>509.250000</td>\n",
       "      <td>3.969750e+03</td>\n",
       "      <td>2181.500000</td>\n",
       "      <td>291.000000</td>\n",
       "      <td>1.00000</td>\n",
       "      <td>56.500000</td>\n",
       "      <td>10.000000</td>\n",
       "      <td>71.000000</td>\n",
       "    </tr>\n",
       "    <tr>\n",
       "      <th>50%</th>\n",
       "      <td>249.500000</td>\n",
       "      <td>129600.000000</td>\n",
       "      <td>2.000000</td>\n",
       "      <td>7.000000</td>\n",
       "      <td>4.000000</td>\n",
       "      <td>9.000000</td>\n",
       "      <td>0.000000</td>\n",
       "      <td>5281.00000</td>\n",
       "      <td>9.051000e+03</td>\n",
       "      <td>625.500000</td>\n",
       "      <td>551.500000</td>\n",
       "      <td>851.000000</td>\n",
       "      <td>6.255500e+03</td>\n",
       "      <td>3417.000000</td>\n",
       "      <td>412.000000</td>\n",
       "      <td>3.00000</td>\n",
       "      <td>101.000000</td>\n",
       "      <td>19.000000</td>\n",
       "      <td>123.500000</td>\n",
       "    </tr>\n",
       "    <tr>\n",
       "      <th>75%</th>\n",
       "      <td>374.250000</td>\n",
       "      <td>136393.000000</td>\n",
       "      <td>3.000000</td>\n",
       "      <td>10.000000</td>\n",
       "      <td>6.000000</td>\n",
       "      <td>11.000000</td>\n",
       "      <td>1.000000</td>\n",
       "      <td>13168.00000</td>\n",
       "      <td>2.208550e+04</td>\n",
       "      <td>1062.000000</td>\n",
       "      <td>955.500000</td>\n",
       "      <td>1463.000000</td>\n",
       "      <td>1.486050e+04</td>\n",
       "      <td>7989.000000</td>\n",
       "      <td>656.250000</td>\n",
       "      <td>7.00000</td>\n",
       "      <td>187.500000</td>\n",
       "      <td>32.250000</td>\n",
       "      <td>228.500000</td>\n",
       "    </tr>\n",
       "    <tr>\n",
       "      <th>max</th>\n",
       "      <td>499.000000</td>\n",
       "      <td>139441.000000</td>\n",
       "      <td>3.000000</td>\n",
       "      <td>12.000000</td>\n",
       "      <td>7.000000</td>\n",
       "      <td>23.000000</td>\n",
       "      <td>1.000000</td>\n",
       "      <td>180480.00000</td>\n",
       "      <td>1.110282e+06</td>\n",
       "      <td>11452.000000</td>\n",
       "      <td>11328.000000</td>\n",
       "      <td>19779.000000</td>\n",
       "      <td>1.107833e+06</td>\n",
       "      <td>51456.000000</td>\n",
       "      <td>4376.000000</td>\n",
       "      <td>372.00000</td>\n",
       "      <td>5172.000000</td>\n",
       "      <td>790.000000</td>\n",
       "      <td>6334.000000</td>\n",
       "    </tr>\n",
       "  </tbody>\n",
       "</table>\n",
       "</div>"
      ],
      "text/plain": [
       "       Unnamed: 0  Page total likes    Category  Post Month  Post Weekday  \\\n",
       "count  500.000000        500.000000  500.000000  500.000000    500.000000   \n",
       "mean   249.500000     123194.176000    1.880000    7.038000      4.150000   \n",
       "std    144.481833      16272.813214    0.852675    3.307936      2.030701   \n",
       "min      0.000000      81370.000000    1.000000    1.000000      1.000000   \n",
       "25%    124.750000     112676.000000    1.000000    4.000000      2.000000   \n",
       "50%    249.500000     129600.000000    2.000000    7.000000      4.000000   \n",
       "75%    374.250000     136393.000000    3.000000   10.000000      6.000000   \n",
       "max    499.000000     139441.000000    3.000000   12.000000      7.000000   \n",
       "\n",
       "        Post Hour        Paid  Lifetime Post Total Reach  \\\n",
       "count  500.000000  499.000000                  500.00000   \n",
       "mean     7.840000    0.278557                13903.36000   \n",
       "std      4.368589    0.448739                22740.78789   \n",
       "min      1.000000    0.000000                  238.00000   \n",
       "25%      3.000000    0.000000                 3315.00000   \n",
       "50%      9.000000    0.000000                 5281.00000   \n",
       "75%     11.000000    1.000000                13168.00000   \n",
       "max     23.000000    1.000000               180480.00000   \n",
       "\n",
       "       Lifetime Post Total Impressions  Lifetime Engaged Users  \\\n",
       "count                     5.000000e+02              500.000000   \n",
       "mean                      2.958595e+04              920.344000   \n",
       "std                       7.680325e+04              985.016636   \n",
       "min                       5.700000e+02                9.000000   \n",
       "25%                       5.694750e+03              393.750000   \n",
       "50%                       9.051000e+03              625.500000   \n",
       "75%                       2.208550e+04             1062.000000   \n",
       "max                       1.110282e+06            11452.000000   \n",
       "\n",
       "       Lifetime Post Consumers  Lifetime Post Consumptions  \\\n",
       "count               500.000000                  500.000000   \n",
       "mean                798.772000                 1415.130000   \n",
       "std                 882.505013                 2000.594118   \n",
       "min                   9.000000                    9.000000   \n",
       "25%                 332.500000                  509.250000   \n",
       "50%                 551.500000                  851.000000   \n",
       "75%                 955.500000                 1463.000000   \n",
       "max               11328.000000                19779.000000   \n",
       "\n",
       "       Lifetime Post Impressions by people who have liked your Page  \\\n",
       "count                                       5.000000e+02              \n",
       "mean                                        1.676638e+04              \n",
       "std                                         5.979102e+04              \n",
       "min                                         5.670000e+02              \n",
       "25%                                         3.969750e+03              \n",
       "50%                                         6.255500e+03              \n",
       "75%                                         1.486050e+04              \n",
       "max                                         1.107833e+06              \n",
       "\n",
       "       Lifetime Post reach by people who like your Page  \\\n",
       "count                                        500.000000   \n",
       "mean                                        6585.488000   \n",
       "std                                         7682.009405   \n",
       "min                                          236.000000   \n",
       "25%                                         2181.500000   \n",
       "50%                                         3417.000000   \n",
       "75%                                         7989.000000   \n",
       "max                                        51456.000000   \n",
       "\n",
       "       Lifetime People who have liked your Page and engaged with your post  \\\n",
       "count                                         500.000000                     \n",
       "mean                                          609.986000                     \n",
       "std                                           612.725618                     \n",
       "min                                             9.000000                     \n",
       "25%                                           291.000000                     \n",
       "50%                                           412.000000                     \n",
       "75%                                           656.250000                     \n",
       "max                                          4376.000000                     \n",
       "\n",
       "         comment         like       share  Total Interactions  \n",
       "count  500.00000   499.000000  496.000000          500.000000  \n",
       "mean     7.48200   177.945892   27.266129          212.120000  \n",
       "std     21.18091   323.398742   42.613292          380.233118  \n",
       "min      0.00000     0.000000    0.000000            0.000000  \n",
       "25%      1.00000    56.500000   10.000000           71.000000  \n",
       "50%      3.00000   101.000000   19.000000          123.500000  \n",
       "75%      7.00000   187.500000   32.250000          228.500000  \n",
       "max    372.00000  5172.000000  790.000000         6334.000000  "
      ]
     },
     "execution_count": 5,
     "metadata": {},
     "output_type": "execute_result"
    }
   ],
   "source": [
    "facebook.describe()"
   ]
  },
  {
   "cell_type": "code",
   "execution_count": 6,
   "metadata": {},
   "outputs": [
    {
     "name": "stdout",
     "output_type": "stream",
     "text": [
      "<class 'pandas.core.frame.DataFrame'>\n",
      "RangeIndex: 500 entries, 0 to 499\n",
      "Data columns (total 20 columns):\n",
      " #   Column                                                               Non-Null Count  Dtype  \n",
      "---  ------                                                               --------------  -----  \n",
      " 0   Unnamed: 0                                                           500 non-null    int64  \n",
      " 1   Page total likes                                                     500 non-null    int64  \n",
      " 2   Type                                                                 500 non-null    object \n",
      " 3   Category                                                             500 non-null    int64  \n",
      " 4   Post Month                                                           500 non-null    int64  \n",
      " 5   Post Weekday                                                         500 non-null    int64  \n",
      " 6   Post Hour                                                            500 non-null    int64  \n",
      " 7   Paid                                                                 499 non-null    float64\n",
      " 8   Lifetime Post Total Reach                                            500 non-null    int64  \n",
      " 9   Lifetime Post Total Impressions                                      500 non-null    int64  \n",
      " 10  Lifetime Engaged Users                                               500 non-null    int64  \n",
      " 11  Lifetime Post Consumers                                              500 non-null    int64  \n",
      " 12  Lifetime Post Consumptions                                           500 non-null    int64  \n",
      " 13  Lifetime Post Impressions by people who have liked your Page         500 non-null    int64  \n",
      " 14  Lifetime Post reach by people who like your Page                     500 non-null    int64  \n",
      " 15  Lifetime People who have liked your Page and engaged with your post  500 non-null    int64  \n",
      " 16  comment                                                              500 non-null    int64  \n",
      " 17  like                                                                 499 non-null    float64\n",
      " 18  share                                                                496 non-null    float64\n",
      " 19  Total Interactions                                                   500 non-null    int64  \n",
      "dtypes: float64(3), int64(16), object(1)\n",
      "memory usage: 78.2+ KB\n"
     ]
    }
   ],
   "source": [
    "facebook.info()"
   ]
  },
  {
   "cell_type": "code",
   "execution_count": 7,
   "metadata": {},
   "outputs": [
    {
     "name": "stdout",
     "output_type": "stream",
     "text": [
      "Unnamed: 0                                                             0\n",
      "Page total likes                                                       0\n",
      "Type                                                                   0\n",
      "Category                                                               0\n",
      "Post Month                                                             0\n",
      "Post Weekday                                                           0\n",
      "Post Hour                                                              0\n",
      "Paid                                                                   1\n",
      "Lifetime Post Total Reach                                              0\n",
      "Lifetime Post Total Impressions                                        0\n",
      "Lifetime Engaged Users                                                 0\n",
      "Lifetime Post Consumers                                                0\n",
      "Lifetime Post Consumptions                                             0\n",
      "Lifetime Post Impressions by people who have liked your Page           0\n",
      "Lifetime Post reach by people who like your Page                       0\n",
      "Lifetime People who have liked your Page and engaged with your post    0\n",
      "comment                                                                0\n",
      "like                                                                   1\n",
      "share                                                                  4\n",
      "Total Interactions                                                     0\n",
      "dtype: int64\n"
     ]
    }
   ],
   "source": [
    "missing_data = facebook.isna().sum()\n",
    "print(missing_data)"
   ]
  },
  {
   "cell_type": "markdown",
   "metadata": {},
   "source": [
    "-UNDERSTAND THE DATA "
   ]
  },
  {
   "cell_type": "code",
   "execution_count": 8,
   "metadata": {},
   "outputs": [
    {
     "data": {
      "text/html": [
       "<div>\n",
       "<style scoped>\n",
       "    .dataframe tbody tr th:only-of-type {\n",
       "        vertical-align: middle;\n",
       "    }\n",
       "\n",
       "    .dataframe tbody tr th {\n",
       "        vertical-align: top;\n",
       "    }\n",
       "\n",
       "    .dataframe thead th {\n",
       "        text-align: right;\n",
       "    }\n",
       "</style>\n",
       "<table border=\"1\" class=\"dataframe\">\n",
       "  <thead>\n",
       "    <tr style=\"text-align: right;\">\n",
       "      <th></th>\n",
       "      <th>Paid</th>\n",
       "      <th>Count</th>\n",
       "      <th>Participation</th>\n",
       "    </tr>\n",
       "  </thead>\n",
       "  <tbody>\n",
       "    <tr>\n",
       "      <th>0</th>\n",
       "      <td>0.0</td>\n",
       "      <td>360</td>\n",
       "      <td>72.0</td>\n",
       "    </tr>\n",
       "    <tr>\n",
       "      <th>1</th>\n",
       "      <td>1.0</td>\n",
       "      <td>139</td>\n",
       "      <td>27.8</td>\n",
       "    </tr>\n",
       "  </tbody>\n",
       "</table>\n",
       "</div>"
      ],
      "text/plain": [
       "   Paid  Count  Participation\n",
       "0   0.0    360           72.0\n",
       "1   1.0    139           27.8"
      ]
     },
     "execution_count": 8,
     "metadata": {},
     "output_type": "execute_result"
    }
   ],
   "source": [
    "# What are the diference between paid advertisement , 1 is yes was paid advertisement , 0 wasn't paid advertisement \n",
    "df1 = facebook['Paid'].value_counts().reset_index()\n",
    "df1.columns = ['Paid','Count']\n",
    "df1['Participation'] = (df1['Count'] / 500) * 100\n",
    "df1"
   ]
  },
  {
   "cell_type": "code",
   "execution_count": 9,
   "metadata": {},
   "outputs": [
    {
     "data": {
      "text/html": [
       "<div>\n",
       "<style scoped>\n",
       "    .dataframe tbody tr th:only-of-type {\n",
       "        vertical-align: middle;\n",
       "    }\n",
       "\n",
       "    .dataframe tbody tr th {\n",
       "        vertical-align: top;\n",
       "    }\n",
       "\n",
       "    .dataframe thead th {\n",
       "        text-align: right;\n",
       "    }\n",
       "</style>\n",
       "<table border=\"1\" class=\"dataframe\">\n",
       "  <thead>\n",
       "    <tr style=\"text-align: right;\">\n",
       "      <th></th>\n",
       "      <th>like</th>\n",
       "      <th>share</th>\n",
       "      <th>comment</th>\n",
       "      <th>Total Interactions</th>\n",
       "    </tr>\n",
       "    <tr>\n",
       "      <th>Paid</th>\n",
       "      <th></th>\n",
       "      <th></th>\n",
       "      <th></th>\n",
       "      <th></th>\n",
       "    </tr>\n",
       "  </thead>\n",
       "  <tbody>\n",
       "    <tr>\n",
       "      <th>0.0</th>\n",
       "      <td>155.846797</td>\n",
       "      <td>25.219101</td>\n",
       "      <td>6.500000</td>\n",
       "      <td>186.852778</td>\n",
       "    </tr>\n",
       "    <tr>\n",
       "      <th>1.0</th>\n",
       "      <td>235.647482</td>\n",
       "      <td>32.503597</td>\n",
       "      <td>10.079137</td>\n",
       "      <td>278.230216</td>\n",
       "    </tr>\n",
       "  </tbody>\n",
       "</table>\n",
       "</div>"
      ],
      "text/plain": [
       "            like      share    comment  Total Interactions\n",
       "Paid                                                      \n",
       "0.0   155.846797  25.219101   6.500000          186.852778\n",
       "1.0   235.647482  32.503597  10.079137          278.230216"
      ]
     },
     "execution_count": 9,
     "metadata": {},
     "output_type": "execute_result"
    }
   ],
   "source": [
    "#What is the avarage and the medium for Paid\n",
    "facebook.groupby(['Paid'])[['like','share','comment','Total Interactions']].mean()"
   ]
  },
  {
   "cell_type": "markdown",
   "metadata": {},
   "source": [
    "We can note that the mean is bigest when the publication was paid advartesiment , in more than 60%  "
   ]
  },
  {
   "cell_type": "code",
   "execution_count": 10,
   "metadata": {},
   "outputs": [],
   "source": [
    "df = facebook.groupby('Post Weekday')[['like','share','comment']].mean().reset_index()\n",
    "df.columns = ['Post Weekday','like','share','comment']"
   ]
  },
  {
   "cell_type": "code",
   "execution_count": 11,
   "metadata": {},
   "outputs": [
    {
     "data": {
      "text/plain": [
       "Text(0.5, 1.0, 'The best day to public')"
      ]
     },
     "execution_count": 11,
     "metadata": {},
     "output_type": "execute_result"
    },
    {
     "data": {
      "image/png": "[encoded data removed]",
      "text/plain": [
       "<Figure size 640x480 with 1 Axes>"
      ]
     },
     "metadata": {},
     "output_type": "display_data"
    }
   ],
   "source": [
    "# what is the best day of the week to public  \n",
    "fig , ax = plt.subplots()\n",
    "\n",
    "ax.plot( df['Post Weekday'],df['like'], color = 'red')\n",
    "ax.plot( df['Post Weekday'],df['share'], color = 'blue')\n",
    "ax.plot( df['Post Weekday'],df['comment'], color = 'green')\n",
    "ax.set_title('The best day to public')\n"
   ]
  },
  {
   "cell_type": "markdown",
   "metadata": {},
   "source": [
    "we can note that the best day to public in the week is the number 3 , we know that 1 is monday  , so the number 3 is wendsday "
   ]
  },
  {
   "cell_type": "code",
   "execution_count": 12,
   "metadata": {},
   "outputs": [
    {
     "data": {
      "text/plain": [
       "Text(0.5, 1.0, 'was not a paid advertisement')"
      ]
     },
     "execution_count": 12,
     "metadata": {},
     "output_type": "execute_result"
    },
    {
     "data": {
      "image/png": "[encoded data removed]",
      "text/plain": [
       "<Figure size 1200x600 with 2 Axes>"
      ]
     },
     "metadata": {},
     "output_type": "display_data"
    }
   ],
   "source": [
    "#what is the diference between was a paid advertisment or wasn't?\n",
    "df1 = facebook.groupby(['Post Weekday','Paid'])[['like','share','comment']].mean().reset_index()\n",
    "df1.columns = ['Post Weekday','Paid','like','share','comment']\n",
    "\n",
    "df_1 = df1[df1['Paid'] == 1]\n",
    "df_0 = df1[df1['Paid'] == 0]\n",
    "\n",
    "fig , ax = plt.subplots(ncols = 1 , nrows = 2 , figsize =(12,6))\n",
    "\n",
    "ax[0].plot( df_1['Post Weekday'],df_1['like'], color = 'red' , label = 'Likes')\n",
    "ax[0].plot( df_1['Post Weekday'],df_1['share'], color = 'blue' , label = 'Share')\n",
    "ax[0].plot( df_1['Post Weekday'],df_1['comment'], color = 'green', label = 'Comment')\n",
    "\n",
    "ax[1].plot( df_0['Post Weekday'],df_0['like'], color = 'red', label = 'Likes')\n",
    "ax[1].plot( df_0['Post Weekday'],df_0['share'], color = 'blue', label = 'Share')\n",
    "ax[1].plot( df_0['Post Weekday'],df_0['comment'], color = 'green' ,label = 'Comment')\n",
    "\n",
    "\n",
    "ax[0].legend()\n",
    "ax[1].legend()\n",
    "ax[0].set_title('was a paid advertisement')\n",
    "ax[1].set_title('was not a paid advertisement')"
   ]
  },
  {
   "cell_type": "markdown",
   "metadata": {},
   "source": [
    "we can note that was not a paid advertisemnt  has a diferent behavior "
   ]
  },
  {
   "cell_type": "code",
   "execution_count": 13,
   "metadata": {},
   "outputs": [],
   "source": [
    "# What is the best type to post?\n"
   ]
  },
  {
   "cell_type": "code",
   "execution_count": 17,
   "metadata": {},
   "outputs": [
    {
     "name": "stdout",
     "output_type": "stream",
     "text": [
      "There are 4 types:['Photo' 'Status' 'Link' 'Video']\n"
     ]
    },
    {
     "data": {
      "text/plain": [
       "Text(0.5, 1.0, 'Type')"
      ]
     },
     "execution_count": 17,
     "metadata": {},
     "output_type": "execute_result"
    },
    {
     "data": {
      "image/png": "[encoded data removed]",
      "text/plain": [
       "<Figure size 640x480 with 1 Axes>"
      ]
     },
     "metadata": {},
     "output_type": "display_data"
    }
   ],
   "source": [
    "# What is the best type to post?\n",
    "Tp = facebook['Type'].unique()\n",
    "print(f'There are 4 types:{Tp}')\n",
    "\n",
    "dft = facebook.groupby('Type')[['like','share','comment']].mean().reset_index()\n",
    "dft.columns = ['Type','like','share','comment']\n",
    "\n",
    "fig , ax = plt.subplots()\n",
    "\n",
    "ax.plot( dft['Type'],dft['like'], color = 'red',label = 'Likes')\n",
    "ax.plot( dft['Type'],dft['share'], color = 'blue', label = 'Share')\n",
    "ax.plot( dft['Type'],dft['comment'], color = 'green', label = 'Comments')\n",
    "ax.legend()\n",
    "ax.set_title('Type')\n"
   ]
  },
  {
   "cell_type": "markdown",
   "metadata": {},
   "source": [
    "the best type is video , the diferrence beetween video and the other type of post is so big , so we can think that the video is the best way to have more likes and shares , we will comprovate later if the video cath more enggated "
   ]
  },
  {
   "cell_type": "code",
   "execution_count": 16,
   "metadata": {},
   "outputs": [
    {
     "ename": "KeyError",
     "evalue": "'Post Weekday'",
     "output_type": "error",
     "traceback": [
      "\u001b[0;31m---------------------------------------------------------------------------\u001b[0m",
      "\u001b[0;31mKeyError\u001b[0m                                  Traceback (most recent call last)",
      "File \u001b[0;32m~/Library/Python/3.9/lib/python/site-packages/pandas/core/indexes/base.py:3805\u001b[0m, in \u001b[0;36mIndex.get_loc\u001b[0;34m(self, key)\u001b[0m\n\u001b[1;32m   3804\u001b[0m \u001b[38;5;28;01mtry\u001b[39;00m:\n\u001b[0;32m-> 3805\u001b[0m     \u001b[38;5;28;01mreturn\u001b[39;00m \u001b[38;5;28;43mself\u001b[39;49m\u001b[38;5;241;43m.\u001b[39;49m\u001b[43m_engine\u001b[49m\u001b[38;5;241;43m.\u001b[39;49m\u001b[43mget_loc\u001b[49m\u001b[43m(\u001b[49m\u001b[43mcasted_key\u001b[49m\u001b[43m)\u001b[49m\n\u001b[1;32m   3806\u001b[0m \u001b[38;5;28;01mexcept\u001b[39;00m \u001b[38;5;167;01mKeyError\u001b[39;00m \u001b[38;5;28;01mas\u001b[39;00m err:\n",
      "File \u001b[0;32mindex.pyx:167\u001b[0m, in \u001b[0;36mpandas._libs.index.IndexEngine.get_loc\u001b[0;34m()\u001b[0m\n",
      "File \u001b[0;32mindex.pyx:196\u001b[0m, in \u001b[0;36mpandas._libs.index.IndexEngine.get_loc\u001b[0;34m()\u001b[0m\n",
      "File \u001b[0;32mpandas/_libs/hashtable_class_helper.pxi:7081\u001b[0m, in \u001b[0;36mpandas._libs.hashtable.PyObjectHashTable.get_item\u001b[0;34m()\u001b[0m\n",
      "File \u001b[0;32mpandas/_libs/hashtable_class_helper.pxi:7089\u001b[0m, in \u001b[0;36mpandas._libs.hashtable.PyObjectHashTable.get_item\u001b[0;34m()\u001b[0m\n",
      "\u001b[0;31mKeyError\u001b[0m: 'Post Weekday'",
      "\nThe above exception was the direct cause of the following exception:\n",
      "\u001b[0;31mKeyError\u001b[0m                                  Traceback (most recent call last)",
      "Cell \u001b[0;32mIn[16], line 10\u001b[0m\n\u001b[1;32m      6\u001b[0m df_0 \u001b[38;5;241m=\u001b[39m df1[df1[\u001b[38;5;124m'\u001b[39m\u001b[38;5;124mPaid\u001b[39m\u001b[38;5;124m'\u001b[39m] \u001b[38;5;241m==\u001b[39m \u001b[38;5;241m0\u001b[39m]\n\u001b[1;32m      8\u001b[0m fig , ax \u001b[38;5;241m=\u001b[39m plt\u001b[38;5;241m.\u001b[39msubplots(ncols \u001b[38;5;241m=\u001b[39m \u001b[38;5;241m1\u001b[39m , nrows \u001b[38;5;241m=\u001b[39m \u001b[38;5;241m2\u001b[39m , figsize \u001b[38;5;241m=\u001b[39m(\u001b[38;5;241m12\u001b[39m,\u001b[38;5;241m6\u001b[39m))\n\u001b[0;32m---> 10\u001b[0m ax[\u001b[38;5;241m0\u001b[39m]\u001b[38;5;241m.\u001b[39mplot( \u001b[43mdf_1\u001b[49m\u001b[43m[\u001b[49m\u001b[38;5;124;43m'\u001b[39;49m\u001b[38;5;124;43mPost Weekday\u001b[39;49m\u001b[38;5;124;43m'\u001b[39;49m\u001b[43m]\u001b[49m,df_1[\u001b[38;5;124m'\u001b[39m\u001b[38;5;124mlike\u001b[39m\u001b[38;5;124m'\u001b[39m], color \u001b[38;5;241m=\u001b[39m \u001b[38;5;124m'\u001b[39m\u001b[38;5;124mred\u001b[39m\u001b[38;5;124m'\u001b[39m)\n\u001b[1;32m     11\u001b[0m ax[\u001b[38;5;241m0\u001b[39m]\u001b[38;5;241m.\u001b[39mplot( df_1[\u001b[38;5;124m'\u001b[39m\u001b[38;5;124mPost Weekday\u001b[39m\u001b[38;5;124m'\u001b[39m],df_1[\u001b[38;5;124m'\u001b[39m\u001b[38;5;124mshare\u001b[39m\u001b[38;5;124m'\u001b[39m], color \u001b[38;5;241m=\u001b[39m \u001b[38;5;124m'\u001b[39m\u001b[38;5;124mblue\u001b[39m\u001b[38;5;124m'\u001b[39m)\n\u001b[1;32m     12\u001b[0m ax[\u001b[38;5;241m0\u001b[39m]\u001b[38;5;241m.\u001b[39mplot( df_1[\u001b[38;5;124m'\u001b[39m\u001b[38;5;124mPost Weekday\u001b[39m\u001b[38;5;124m'\u001b[39m],df_1[\u001b[38;5;124m'\u001b[39m\u001b[38;5;124mcomment\u001b[39m\u001b[38;5;124m'\u001b[39m], color \u001b[38;5;241m=\u001b[39m \u001b[38;5;124m'\u001b[39m\u001b[38;5;124mgreen\u001b[39m\u001b[38;5;124m'\u001b[39m)\n",
      "File \u001b[0;32m~/Library/Python/3.9/lib/python/site-packages/pandas/core/frame.py:4102\u001b[0m, in \u001b[0;36mDataFrame.__getitem__\u001b[0;34m(self, key)\u001b[0m\n\u001b[1;32m   4100\u001b[0m \u001b[38;5;28;01mif\u001b[39;00m \u001b[38;5;28mself\u001b[39m\u001b[38;5;241m.\u001b[39mcolumns\u001b[38;5;241m.\u001b[39mnlevels \u001b[38;5;241m>\u001b[39m \u001b[38;5;241m1\u001b[39m:\n\u001b[1;32m   4101\u001b[0m     \u001b[38;5;28;01mreturn\u001b[39;00m \u001b[38;5;28mself\u001b[39m\u001b[38;5;241m.\u001b[39m_getitem_multilevel(key)\n\u001b[0;32m-> 4102\u001b[0m indexer \u001b[38;5;241m=\u001b[39m \u001b[38;5;28;43mself\u001b[39;49m\u001b[38;5;241;43m.\u001b[39;49m\u001b[43mcolumns\u001b[49m\u001b[38;5;241;43m.\u001b[39;49m\u001b[43mget_loc\u001b[49m\u001b[43m(\u001b[49m\u001b[43mkey\u001b[49m\u001b[43m)\u001b[49m\n\u001b[1;32m   4103\u001b[0m \u001b[38;5;28;01mif\u001b[39;00m is_integer(indexer):\n\u001b[1;32m   4104\u001b[0m     indexer \u001b[38;5;241m=\u001b[39m [indexer]\n",
      "File \u001b[0;32m~/Library/Python/3.9/lib/python/site-packages/pandas/core/indexes/base.py:3812\u001b[0m, in \u001b[0;36mIndex.get_loc\u001b[0;34m(self, key)\u001b[0m\n\u001b[1;32m   3807\u001b[0m     \u001b[38;5;28;01mif\u001b[39;00m \u001b[38;5;28misinstance\u001b[39m(casted_key, \u001b[38;5;28mslice\u001b[39m) \u001b[38;5;129;01mor\u001b[39;00m (\n\u001b[1;32m   3808\u001b[0m         \u001b[38;5;28misinstance\u001b[39m(casted_key, abc\u001b[38;5;241m.\u001b[39mIterable)\n\u001b[1;32m   3809\u001b[0m         \u001b[38;5;129;01mand\u001b[39;00m \u001b[38;5;28many\u001b[39m(\u001b[38;5;28misinstance\u001b[39m(x, \u001b[38;5;28mslice\u001b[39m) \u001b[38;5;28;01mfor\u001b[39;00m x \u001b[38;5;129;01min\u001b[39;00m casted_key)\n\u001b[1;32m   3810\u001b[0m     ):\n\u001b[1;32m   3811\u001b[0m         \u001b[38;5;28;01mraise\u001b[39;00m InvalidIndexError(key)\n\u001b[0;32m-> 3812\u001b[0m     \u001b[38;5;28;01mraise\u001b[39;00m \u001b[38;5;167;01mKeyError\u001b[39;00m(key) \u001b[38;5;28;01mfrom\u001b[39;00m \u001b[38;5;21;01merr\u001b[39;00m\n\u001b[1;32m   3813\u001b[0m \u001b[38;5;28;01mexcept\u001b[39;00m \u001b[38;5;167;01mTypeError\u001b[39;00m:\n\u001b[1;32m   3814\u001b[0m     \u001b[38;5;66;03m# If we have a listlike key, _check_indexing_error will raise\u001b[39;00m\n\u001b[1;32m   3815\u001b[0m     \u001b[38;5;66;03m#  InvalidIndexError. Otherwise we fall through and re-raise\u001b[39;00m\n\u001b[1;32m   3816\u001b[0m     \u001b[38;5;66;03m#  the TypeError.\u001b[39;00m\n\u001b[1;32m   3817\u001b[0m     \u001b[38;5;28mself\u001b[39m\u001b[38;5;241m.\u001b[39m_check_indexing_error(key)\n",
      "\u001b[0;31mKeyError\u001b[0m: 'Post Weekday'"
     ]
    },
    {
     "data": {
      "image/png": "[encoded data removed]",
      "text/plain": [
       "<Figure size 1200x600 with 2 Axes>"
      ]
     },
     "metadata": {},
     "output_type": "display_data"
    }
   ],
   "source": [
    "#what is the diference between was a paid advertisment or wasn't?\n",
    "df1 = facebook.groupby(['Type','Paid'])[['like','share','comment']].mean().reset_index()\n",
    "df1.columns = ['Type','Paid','like','share','comment']\n",
    "\n",
    "df_1 = df1[df1['Paid'] == 1]\n",
    "df_0 = df1[df1['Paid'] == 0]\n",
    "\n",
    "fig , ax = plt.subplots(ncols = 1 , nrows = 2 , figsize =(12,6))\n",
    "\n",
    "ax[0].plot( df_1['Post Weekday'],df_1['like'], color = 'red')\n",
    "ax[0].plot( df_1['Post Weekday'],df_1['share'], color = 'blue')\n",
    "ax[0].plot( df_1['Post Weekday'],df_1['comment'], color = 'green')\n",
    "\n",
    "ax[1].plot( df_0['Post Weekday'],df_0['like'], color = 'red')\n",
    "ax[1].plot( df_0['Post Weekday'],df_0['share'], color = 'blue')\n",
    "ax[1].plot( df_0['Post Weekday'],df_0['comment'], color = 'green')\n",
    "\n",
    "ax[0].set_title('was a paid advertisement')\n",
    "ax[1].set_title('was not a paid advertisement')"
   ]
  },
  {
   "cell_type": "code",
   "execution_count": null,
   "metadata": {},
   "outputs": [],
   "source": []
  }
 ],
 "metadata": {
  "kernelspec": {
   "display_name": "Python 3",
   "language": "python",
   "name": "python3"
  },
  "language_info": {
   "codemirror_mode": {
    "name": "ipython",
    "version": 3
   },
   "file_extension": ".py",
   "mimetype": "text/x-python",
   "name": "python",
   "nbconvert_exporter": "python",
   "pygments_lexer": "ipython3",
   "version": "3.9.6"
  }
 },
 "nbformat": 4,
 "nbformat_minor": 2
}
